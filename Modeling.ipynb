{
  "cells": [
    {
      "cell_type": "code",
      "execution_count": 1,
      "metadata": {
        "colab": {
          "base_uri": "https://localhost:8080/"
        },
        "id": "wtf-5MaqC71c",
        "outputId": "264279d6-b1da-46f9-c27a-669c7c493f9f"
      },
      "outputs": [
        {
          "name": "stdout",
          "output_type": "stream",
          "text": [
            "[('Deflect-o SuperTray Unbreakable Stackable Tray, Letter, Black', 3.0), ('Adams Phone Message Book, Professional, 400 Message Capacity, 5 3/6” x 11”', 2.82988546564033), ('Logitech\\xa0Gaming G510s - Keyboard', 2.668824160067906)]\n"
          ]
        }
      ],
      "source": [
        "import pandas as pd\n",
        "import numpy as np\n",
        "from scipy.stats import pearsonr\n",
        "import seaborn as sns\n",
        "from sklearn.metrics.pairwise import cosine_similarity\n",
        "import datetime\n",
        "from sklearn.preprocessing import LabelEncoder\n",
        "\n",
        "# Load the data\n",
        "df = pd.read_csv('supermarket_data.csv')\n",
        "\n",
        "# Pivot the data to create a user-item matrix\n",
        "matrix = df.pivot_table(index='User ID', columns='Product Name', values='Interaction Type', fill_value=0)\n",
        "\n",
        "# Calculate the user-user similarity matrix\n",
        "user_similarity = pd.DataFrame(cosine_similarity(matrix), index=matrix.index, columns=matrix.index)\n",
        "\n",
        "def collaborative_filtering(user_id, n_recommendations=3):\n",
        "    \"\"\"\n",
        "    Collaborative filtering recommendation algorithm\n",
        "    \n",
        "    Parameters:\n",
        "    user_id (int): The ID of the target user\n",
        "    n_recommendations (int): The number of recommendations to return (default is 3)\n",
        "    \n",
        "    Returns:\n",
        "    A list of tuples containing the recommended products and their predicted interaction score\n",
        "    \"\"\"\n",
        "    # Get the similarity scores of the target user with other users\n",
        "    sim_scores = user_similarity[user_id].sort_values(ascending=False)\n",
        "    \n",
        "    # Get the top n most similar users\n",
        "    top_users = sim_scores.iloc[1:n_recommendations+1].index\n",
        "    \n",
        "    # Get the products that the target user has not interacted with\n",
        "    uninteracted_products = matrix.loc[user_id][matrix.loc[user_id] == 0].index\n",
        "    \n",
        "    # Create a list to store the predicted interaction scores for each product\n",
        "    interaction_scores = []\n",
        "    \n",
        "    # Calculate the predicted interaction score for each uninteracted product\n",
        "    for product in uninteracted_products:\n",
        "        interaction_score = np.average(matrix.loc[top_users][product], weights=sim_scores[top_users])\n",
        "        interaction_scores.append((product, interaction_score))\n",
        "    \n",
        "    # Sort the products by their predicted interaction score in descending order\n",
        "    sorted_scores = sorted(interaction_scores, key=lambda x: x[1], reverse=True)\n",
        "    \n",
        "    # Return the top n recommended products\n",
        "    return sorted_scores[:n_recommendations]\n",
        "\n",
        "# Get recommendations\n",
        "recommended_products = collaborative_filtering(user_id=97, n_recommendations=3)\n",
        "print(recommended_products)\n"
      ]
    }
  ],
  "metadata": {
    "colab": {
      "provenance": []
    },
    "kernelspec": {
      "display_name": "Python 3",
      "name": "python3"
    },
    "language_info": {
      "codemirror_mode": {
        "name": "ipython",
        "version": 3
      },
      "file_extension": ".py",
      "mimetype": "text/x-python",
      "name": "python",
      "nbconvert_exporter": "python",
      "pygments_lexer": "ipython3",
      "version": "3.9.13"
    }
  },
  "nbformat": 4,
  "nbformat_minor": 0
}
