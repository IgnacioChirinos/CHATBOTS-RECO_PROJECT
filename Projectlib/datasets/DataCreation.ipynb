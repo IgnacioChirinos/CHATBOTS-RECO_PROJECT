{
  "cells": [
    {
      "cell_type": "code",
      "execution_count": 29,
      "metadata": {
        "id": "6DoI5OdOWcH3"
      },
      "outputs": [],
      "source": [
        "import pandas as pd\n",
        "import random\n",
        "import pandas as pd\n",
        "import numpy as np\n",
        "from datetime import datetime\n",
        "import urllib.request\n",
        "import os"
      ]
    },
    {
      "cell_type": "code",
      "execution_count": null,
      "metadata": {},
      "outputs": [],
      "source": [
        "def maybe_download(filename, url):\n",
        "    if not os.path.exists(filename):\n",
        "        print(\"Downloading file...\")\n",
        "        urllib.request.urlretrieve(url, filename)\n",
        "    else:\n",
        "        print(\"File already exists.\")\n",
        "\n",
        "# Download the data file\n",
        "url = \"https://www.kaggle.com/datasets/heeraldedhia/groceries-dataset\"\n",
        "maybe_download(\"Groceries_dataset.csv\", url)"
      ]
    },
    {
      "cell_type": "code",
      "execution_count": 30,
      "metadata": {
        "colab": {
          "base_uri": "https://localhost:8080/"
        },
        "id": "N7vb9UUmdDq3",
        "outputId": "22fd4523-6582-48c6-dc93-cd3bc560074a"
      },
      "outputs": [
        {
          "name": "stdout",
          "output_type": "stream",
          "text": [
            "                Product Name\n",
            "0             tropical fruit\n",
            "1                 whole milk\n",
            "2                  pip fruit\n",
            "3           other vegetables\n",
            "5                 rolls/buns\n",
            "...                      ...\n",
            "18396         pudding powder\n",
            "20424            ready soups\n",
            "21177        make up remover\n",
            "25545         toilet cleaner\n",
            "33699  preservation products\n",
            "\n",
            "[167 rows x 1 columns]\n"
          ]
        }
      ],
      "source": [
        "pl=pd.read_csv(\"Groceries_dataset.csv\")\n",
        "\n",
        "pl = pl.drop_duplicates(subset=['itemDescription'], keep='first')\n",
        "new_pl=pl[[\"itemDescription\"]]\n",
        "new_pl = new_pl.rename(columns={'itemDescription': 'Product Name'})\n",
        "print(new_pl)"
      ]
    },
    {
      "cell_type": "code",
      "execution_count": 13,
      "metadata": {
        "id": "IRtNVmJ4Y6fP"
      },
      "outputs": [],
      "source": [
        "\n",
        "product_id = np.arange(167)\n",
        "product_name = new_pl[\"Product Name\"]\n",
        "expiration_date = np.random.choice(pd.date_range('2023-01-01', '2025-12-31').strftime('%Y-%m-%d'), size=167)\n",
        "\n",
        "df = pd.DataFrame({'Product ID': product_id, 'Product Name': product_name, 'Expiration Date': expiration_date})\n",
        "df.to_csv('product_info.csv', index=False)\n"
      ]
    },
    {
      "cell_type": "code",
      "execution_count": 14,
      "metadata": {
        "id": "OXj-Q54qZWEj"
      },
      "outputs": [],
      "source": [
        "user_id = np.arange(1000)\n",
        "age = np.random.randint(18, 65, size=1000)\n",
        "gender = np.random.choice(['Male', 'Female', 'Other'], size=1000)\n",
        "occupation = np.random.choice(['Student', 'Engineer', 'Teacher', 'Doctor', 'Businessman'], size=1000)\n",
        "location = np.random.choice(['New York', 'Los Angeles', 'Chicago', 'Houston', 'Phoenix'], size=1000)\n",
        "\n",
        "df = pd.DataFrame({'User ID': user_id, 'Age': age, 'Gender': gender, 'Occupation': occupation, 'Location': location})\n",
        "df.to_csv('user_info.csv', index=False)"
      ]
    },
    {
      "cell_type": "code",
      "execution_count": 12,
      "metadata": {
        "id": "JOuR15UdZlDV"
      },
      "outputs": [],
      "source": [
        "user_id = np.random.randint(0, 1000, size=100000)\n",
        "product_id = np.random.randint(0, 167, size=100000)\n",
        "interaction_type = np.random.choice(['View', 'Purchase', 'Add to Cart', 'Wishlist'], size=100000)\n",
        "interaction_timestamp = np.array([datetime.now().strftime('%Y-%m-%d %H:%M:%S') for i in range(100000)])\n",
        "\n",
        "df = pd.DataFrame({'User ID': user_id, 'Product ID': product_id, 'Interaction Type': interaction_type, 'Interaction Timestamp': interaction_timestamp})\n",
        "df.to_csv(\"interaction_data.csv\", index=False)"
      ]
    },
    {
      "cell_type": "code",
      "execution_count": 15,
      "metadata": {
        "id": "dPMj27AMafqU"
      },
      "outputs": [],
      "source": [
        "# Load the data\n",
        "users = pd.read_csv('user_info.csv')\n",
        "products = pd.read_csv('product_info.csv')\n",
        "interactions = pd.read_csv('interaction_data.csv')\n"
      ]
    },
    {
      "cell_type": "code",
      "execution_count": 16,
      "metadata": {
        "id": "SR04iPD6aw6E"
      },
      "outputs": [],
      "source": [
        "products['Expiration Date'] = pd.to_datetime(products['Expiration Date'])"
      ]
    },
    {
      "cell_type": "code",
      "execution_count": 22,
      "metadata": {
        "id": "2O7EyCjebNOj"
      },
      "outputs": [],
      "source": [
        "category_to_number = {\n",
        "    \"Add to Cart\": 3,\n",
        "    \"View\": 1,\n",
        "    \"Purchase\": 4,\n",
        "    \"Wishlist\": 2\n",
        "}"
      ]
    },
    {
      "cell_type": "code",
      "execution_count": 26,
      "metadata": {
        "colab": {
          "base_uri": "https://localhost:8080/"
        },
        "id": "wzdipGX8bQuv",
        "outputId": "19662463-9181-48c5-dc79-1a792a6995c2"
      },
      "outputs": [
        {
          "name": "stdout",
          "output_type": "stream",
          "text": [
            "0        3\n",
            "1        3\n",
            "2        2\n",
            "3        4\n",
            "4        4\n",
            "        ..\n",
            "99995    4\n",
            "99996    3\n",
            "99997    3\n",
            "99998    3\n",
            "99999    2\n",
            "Name: Interaction Type, Length: 100000, dtype: int64\n"
          ]
        }
      ],
      "source": [
        "interactions[\"Interaction Type\"] = interactions[\"Interaction Type\"].map(category_to_number)\n",
        "print(interactions[\"Interaction Type\"])"
      ]
    },
    {
      "cell_type": "code",
      "execution_count": 27,
      "metadata": {
        "id": "oqN__YbDbevm"
      },
      "outputs": [],
      "source": [
        "# Merge the dataframes\n",
        "data = interactions.merge(users, on='User ID').merge(products, on=\"Product ID\")\n"
      ]
    },
    {
      "cell_type": "code",
      "execution_count": 28,
      "metadata": {
        "id": "SXQu_pVOblr3"
      },
      "outputs": [],
      "source": [
        "data.to_csv(\"supermarket_data.csv\", index=False)"
      ]
    }
  ],
  "metadata": {
    "colab": {
      "provenance": []
    },
    "kernelspec": {
      "display_name": "Python 3",
      "name": "python3"
    },
    "language_info": {
      "name": "python"
    }
  },
  "nbformat": 4,
  "nbformat_minor": 0
}
