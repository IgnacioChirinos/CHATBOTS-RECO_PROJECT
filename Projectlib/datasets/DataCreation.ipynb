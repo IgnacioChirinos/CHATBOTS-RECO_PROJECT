{
  "cells": [
    {
      "attachments": {},
      "cell_type": "markdown",
      "metadata": {},
      "source": [
        "Below are all the necessary libraries for this notebook to run."
      ]
    },
    {
      "cell_type": "code",
      "execution_count": 29,
      "metadata": {
        "id": "6DoI5OdOWcH3"
      },
      "outputs": [],
      "source": [
        "import pandas as pd\n",
        "import random\n",
        "import pandas as pd\n",
        "import numpy as np\n",
        "from datetime import datetime\n",
        "import urllib.request\n",
        "import os"
      ]
    },
    {
      "attachments": {},
      "cell_type": "markdown",
      "metadata": {},
      "source": [
        "Below we are using the 'maybe_download' function to download our chosen dataset from Kaggle. After that, we read the data and remove duplicates based on the 'itemDescription' column. We subsequently create a new dataframe called 'new_pl', changing 'itemDescription' to 'Product Name', and print the column."
      ]
    },
    {
      "cell_type": "code",
      "execution_count": null,
      "metadata": {},
      "outputs": [],
      "source": [
        "def maybe_download(filename, url):\n",
        "    if not os.path.exists(filename):\n",
        "        print(\"Downloading file...\")\n",
        "        urllib.request.urlretrieve(url, filename)\n",
        "    else:\n",
        "        print(\"File already exists.\")\n",
        "\n",
        "\n",
        "url = \"https://www.kaggle.com/datasets/heeraldedhia/groceries-dataset\"\n",
        "maybe_download(\"Groceries_dataset.csv\", url)"
      ]
    },
    {
      "cell_type": "code",
      "execution_count": 30,
      "metadata": {
        "colab": {
          "base_uri": "https://localhost:8080/"
        },
        "id": "N7vb9UUmdDq3",
        "outputId": "22fd4523-6582-48c6-dc93-cd3bc560074a"
      },
      "outputs": [
        {
          "name": "stdout",
          "output_type": "stream",
          "text": [
            "                Product Name\n",
            "0             tropical fruit\n",
            "1                 whole milk\n",
            "2                  pip fruit\n",
            "3           other vegetables\n",
            "5                 rolls/buns\n",
            "...                      ...\n",
            "18396         pudding powder\n",
            "20424            ready soups\n",
            "21177        make up remover\n",
            "25545         toilet cleaner\n",
            "33699  preservation products\n",
            "\n",
            "[167 rows x 1 columns]\n"
          ]
        }
      ],
      "source": [
        "pl = pd.read_csv(\"Groceries_dataset.csv\")\n",
        "\n",
        "pl = pl.drop_duplicates(subset = ['itemDescription'], keep = 'first')\n",
        "new_pl = pl[[\"itemDescription\"]]\n",
        "new_pl = new_pl.rename(columns={'itemDescription': 'Product Name'})\n",
        "print(new_pl)"
      ]
    },
    {
      "attachments": {},
      "cell_type": "markdown",
      "metadata": {},
      "source": [
        "Next, we create 'product_info.csv', which contains the columns seen in the code below related to product information."
      ]
    },
    {
      "cell_type": "code",
      "execution_count": 13,
      "metadata": {
        "id": "IRtNVmJ4Y6fP"
      },
      "outputs": [],
      "source": [
        "product_id = np.arange(167)\n",
        "product_name = new_pl[\"Product Name\"]\n",
        "expiration_date = np.random.choice(pd.date_range('2023-01-01', '2025-12-31').strftime('%Y-%m-%d'), size = 167)\n",
        "\n",
        "df = pd.DataFrame({'Product ID': product_id, 'Product Name': product_name, 'Expiration Date': expiration_date})\n",
        "df.to_csv('product_info.csv', index = False)\n"
      ]
    },
    {
      "attachments": {},
      "cell_type": "markdown",
      "metadata": {},
      "source": [
        " We create 'user_info.csv', generating the user information seen in the code below."
      ]
    },
    {
      "cell_type": "code",
      "execution_count": 14,
      "metadata": {
        "id": "OXj-Q54qZWEj"
      },
      "outputs": [],
      "source": [
        "user_id = np.arange(1000)\n",
        "age = np.random.randint(18, 65, size = 1000)\n",
        "gender = np.random.choice(['Male', 'Female', 'Other'], size = 1000)\n",
        "occupation = np.random.choice(['Student', 'Engineer', 'Teacher', 'Doctor', 'Businessman'], size = 1000)\n",
        "location = np.random.choice(['New York', 'Los Angeles', 'Chicago', 'Houston', 'Phoenix'], size = 1000)\n",
        "\n",
        "df = pd.DataFrame({'User ID': user_id, 'Age': age, 'Gender': gender, 'Occupation': occupation, 'Location': location})\n",
        "df.to_csv('user_info.csv', index = False)"
      ]
    },
    {
      "attachments": {},
      "cell_type": "markdown",
      "metadata": {},
      "source": [
        "Finally, we create 'interaction_data.csv', containing the interaction data that can be seen in the code below."
      ]
    },
    {
      "cell_type": "code",
      "execution_count": 12,
      "metadata": {
        "id": "JOuR15UdZlDV"
      },
      "outputs": [],
      "source": [
        "user_id = np.random.randint(0, 1000, size = 100000)\n",
        "product_id = np.random.randint(0, 167, size = 100000)\n",
        "interaction_type = np.random.choice(['View', 'Purchase', 'Add to Cart', 'Wishlist'], size = 100000)\n",
        "interaction_timestamp = np.array([datetime.now().strftime('%Y-%m-%d %H:%M:%S') for i in range(100000)])\n",
        "\n",
        "df = pd.DataFrame({'User ID': user_id, 'Product ID': product_id, 'Interaction Type': interaction_type, 'Interaction Timestamp': interaction_timestamp})\n",
        "df.to_csv(\"interaction_data.csv\", index = False)"
      ]
    },
    {
      "attachments": {},
      "cell_type": "markdown",
      "metadata": {},
      "source": [
        "Now, we transform our data to create our final file, 'supermarket_data.csv'. We convert the 'Expiration Date' column from the 'product_info.csv' to datetime format. Then, we convert the 'Interaction Type' column from 'interaction_data' to values from 1 to 4. 1 represents the weakest form of viewer interaction, which is simply viewing the product, whilst 4 represents the strongest form of viewer interaction, which is purchasing the product. "
      ]
    },
    {
      "cell_type": "code",
      "execution_count": 15,
      "metadata": {
        "id": "dPMj27AMafqU"
      },
      "outputs": [],
      "source": [
        "# Load the data\n",
        "users = pd.read_csv('user_info.csv')\n",
        "products = pd.read_csv('product_info.csv')\n",
        "interactions = pd.read_csv('interaction_data.csv')\n",
        "\n",
        "products['Expiration Date'] = pd.to_datetime(products['Expiration Date'])\n",
        "\n",
        "category_to_number = {\n",
        "    \"View\": 1,\n",
        "    \"Wishlist\": 2,\n",
        "    \"Add to Cart\": 3,\n",
        "    \"Purchase\": 4\n",
        "}"
      ]
    },
    {
      "cell_type": "code",
      "execution_count": 26,
      "metadata": {
        "colab": {
          "base_uri": "https://localhost:8080/"
        },
        "id": "wzdipGX8bQuv",
        "outputId": "19662463-9181-48c5-dc79-1a792a6995c2"
      },
      "outputs": [
        {
          "name": "stdout",
          "output_type": "stream",
          "text": [
            "0        3\n",
            "1        3\n",
            "2        2\n",
            "3        4\n",
            "4        4\n",
            "        ..\n",
            "99995    4\n",
            "99996    3\n",
            "99997    3\n",
            "99998    3\n",
            "99999    2\n",
            "Name: Interaction Type, Length: 100000, dtype: int64\n"
          ]
        }
      ],
      "source": [
        "interactions[\"Interaction Type\"] = interactions[\"Interaction Type\"].map(category_to_number)\n",
        "print(interactions[\"Interaction Type\"])"
      ]
    },
    {
      "attachments": {},
      "cell_type": "markdown",
      "metadata": {},
      "source": [
        "Finally, we merge the dataframes to create 'supermarket_data.csv'."
      ]
    },
    {
      "cell_type": "code",
      "execution_count": 27,
      "metadata": {
        "id": "oqN__YbDbevm"
      },
      "outputs": [],
      "source": [
        "data = interactions.merge(users, on = 'User ID').merge(products, on = \"Product ID\")\n",
        "data.to_csv(\"supermarket_data.csv\", index = False)"
      ]
    }
  ],
  "metadata": {
    "colab": {
      "provenance": []
    },
    "kernelspec": {
      "display_name": "Python 3",
      "name": "python3"
    },
    "language_info": {
      "name": "python"
    }
  },
  "nbformat": 4,
  "nbformat_minor": 0
}
