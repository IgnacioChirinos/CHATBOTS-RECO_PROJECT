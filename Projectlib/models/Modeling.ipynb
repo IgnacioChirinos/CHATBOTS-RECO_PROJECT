{
  "cells": [
    {
      "cell_type": "code",
      "execution_count": 11,
      "metadata": {
        "colab": {
          "base_uri": "https://localhost:8080/"
        },
        "id": "wtf-5MaqC71c",
        "outputId": "264279d6-b1da-46f9-c27a-669c7c493f9f"
      },
      "outputs": [
        {
          "name": "stdout",
          "output_type": "stream",
          "text": [
            "[('kitchen utensil', 3.332519651665075), ('photo/film', 2.9975128198114396), ('curd', 2.6724547087120474)]\n"
          ]
        }
      ],
      "source": [
        "import numpy as np\n",
        "import pandas as pd\n",
        "from scipy.stats import pearsonr\n",
        "import seaborn as sns\n",
        "from sklearn.metrics.pairwise import cosine_similarity\n",
        "import datetime\n",
        "from sklearn.preprocessing import LabelEncoder\n",
        "from sklearn.model_selection import train_test_split\n",
        "\n",
        "# Load the data\n",
        "df = pd.read_csv('supermarket_data.csv')\n",
        "\n",
        "# Split the data into train and test sets\n",
        "train, test = train_test_split(df, test_size=0.75, random_state=42)\n",
        "\n",
        "# Pivot the data to create a user-item matrix\n",
        "matrix = train.pivot_table(index='User ID', columns='Product Name', values='Interaction Type', fill_value=0)\n",
        "\n",
        "# Calculate the user-user similarity matrix\n",
        "user_similarity = pd.DataFrame(cosine_similarity(matrix), index=matrix.index, columns=matrix.index)\n",
        "\n",
        "def collaborative_filtering(user_id, n_recommendations=3):\n",
        "    \"\"\"\n",
        "    Collaborative filtering recommendation algorithm\n",
        "    \n",
        "    Parameters:\n",
        "    user_id (int): The ID of the target user\n",
        "    n_recommendations (int): The number of recommendations to return (default is 3)\n",
        "    \n",
        "    Returns:\n",
        "    A list of tuples containing the recommended products and their predicted interaction score\n",
        "    \"\"\"\n",
        "    # Get the similarity scores of the target user with other users\n",
        "    sim_scores = user_similarity[user_id].sort_values(ascending=False)\n",
        "    \n",
        "    # Get the top n most similar users\n",
        "    top_users = sim_scores.iloc[1:n_recommendations+1].index\n",
        "    \n",
        "    # Get the products that the target user has not interacted with\n",
        "    uninteracted_products = matrix.loc[user_id][matrix.loc[user_id] == 0].index\n",
        "    \n",
        "    # Create a list to store the predicted interaction scores for each product\n",
        "    interaction_scores = []\n",
        "    \n",
        "    # Calculate the predicted interaction score for each uninteracted product\n",
        "    for product in uninteracted_products:\n",
        "        interaction_score = np.average(matrix.loc[top_users][product], weights=sim_scores[top_users])\n",
        "        interaction_scores.append((product, interaction_score))\n",
        "    \n",
        "    # Sort the products by their predicted interaction score in descending order\n",
        "    sorted_scores = sorted(interaction_scores, key=lambda x: x[1], reverse=True)\n",
        "    \n",
        "    # Return the top n recommended products\n",
        "    return sorted_scores[:n_recommendations]\n",
        "\n",
        "# Get recommendations\n",
        "recommended_products = collaborative_filtering(user_id=100, n_recommendations=3)\n",
        "print(recommended_products)\n"
      ]
    },
    {
      "cell_type": "code",
      "execution_count": 24,
      "metadata": {},
      "outputs": [
        {
          "name": "stdout",
          "output_type": "stream",
          "text": [
            "['preservation products', 'mayonnaise', 'bathroom cleaner', 'butter milk', 'tidbits', 'liver loaf', 'candy', 'dog food', 'Instant food products', 'beef', 'dental care', 'pastry', 'ketchup', 'rice', 'frozen fish', 'specialty fat', 'frankfurter', 'house keeping products', 'curd cheese', 'frozen fruits', 'white bread', 'meat', 'soap', 'canned fish', 'spices', 'pudding powder', 'frozen potato products', 'nuts/prunes', 'cake bar', 'cream cheese ', 'sliced cheese', 'onions', 'liqueur', 'make up remover', 'softener', 'rum', 'male cosmetics', 'sausage', 'instant coffee', 'detergent', 'specialty bar', 'vinegar', 'frozen chicken', 'soups', 'domestic eggs', 'cling film/bags', 'frozen vegetables', 'kitchen towels', 'salty snack', 'bags', 'sparkling wine', 'hard cheese', 'pork', 'toilet cleaner', 'artif. sweetener', 'organic sausage', 'specialty cheese', 'cream', 'rubbing alcohol', 'shopping bags', 'meat spreads', 'chocolate', 'canned beer', 'pasta', 'popcorn', 'chicken', 'ham', 'sugar', 'dish cleaner', 'white wine', 'ice cream', 'tea', 'spread cheese', 'whipped/sour cream', 'flower soil/fertilizer', 'sweet spreads', 'honey', 'salt', 'semi-finished bread']\n",
            "['kitchen utensil', 'root vegetables', 'baking powder', 'misc. beverages', 'whole milk', 'frozen dessert', 'packaged fruit/vegetables', 'canned fruit', 'pet care', 'decalcifier']\n",
            "[0, 0, 0, 0, 0, 0, 0, 0, 0, 0]\n",
            "MAP@3 score for user_id 100: -0.0\n"
          ]
        },
        {
          "name": "stderr",
          "output_type": "stream",
          "text": [
            "c:\\Users\\HP\\AppData\\Local\\Programs\\Python\\Python39\\lib\\site-packages\\sklearn\\metrics\\_ranking.py:891: UserWarning: No positive class found in y_true, recall is set to one for all thresholds.\n",
            "  warnings.warn(\n"
          ]
        }
      ],
      "source": [
        "from sklearn.metrics import average_precision_score\n",
        "\n",
        "# Get recommendations for user_id 100\n",
        "recommended_products = collaborative_filtering(user_id=100, n_recommendations=10)\n",
        "\n",
        "# Get the actual products interacted with by user_id 100\n",
        "actual_products = list(df.loc[df['User ID'] == 100]['Product Name'].unique())\n",
        "print(actual_products)\n",
        "# Calculate the average precision at k\n",
        "k = 13\n",
        "recommended_k = list(p[0] for p in recommended_products[:k])\n",
        "print(recommended_k)\n",
        "y_true = [int(p in actual_products) for p in recommended_k]\n",
        "print(y_true)\n",
        "y_scores = [p[1] for p in recommended_products[:k]]\n",
        "average_precision = average_precision_score(y_true, y_scores)\n",
        "\n",
        "print(\"MAP@3 score for user_id 100:\", average_precision)\n"
      ]
    }
  ],
  "metadata": {
    "colab": {
      "provenance": []
    },
    "kernelspec": {
      "display_name": "Python 3",
      "name": "python3"
    },
    "language_info": {
      "codemirror_mode": {
        "name": "ipython",
        "version": 3
      },
      "file_extension": ".py",
      "mimetype": "text/x-python",
      "name": "python",
      "nbconvert_exporter": "python",
      "pygments_lexer": "ipython3",
      "version": "3.9.1"
    }
  },
  "nbformat": 4,
  "nbformat_minor": 0
}
