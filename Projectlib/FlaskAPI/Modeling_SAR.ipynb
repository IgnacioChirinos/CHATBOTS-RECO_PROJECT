{
  "cells": [
    {
      "cell_type": "code",
      "execution_count": null,
      "metadata": {},
      "outputs": [],
      "source": [
        "from flask import Flask, request, jsonify, render_template\n",
        "import pandas as pd\n",
        "import joblib"
      ]
    },
    {
      "cell_type": "code",
      "execution_count": 7,
      "metadata": {},
      "outputs": [],
      "source": [
        "data = pd.read_csv('supermarket_data.csv')"
      ]
    },
    {
      "cell_type": "code",
      "execution_count": 8,
      "metadata": {
        "id": "LQ90WLaFxbP4"
      },
      "outputs": [],
      "source": [
        "\n",
        "def recommend_for_user(model, test_data, user_id, num_recs):\n",
        "    # Get the user's interactions from the test dataset\n",
        "    user_interactions = test_data[test_data['User ID'] == user_id]\n",
        "    \n",
        "    # Generate top-k recommendations for the user\n",
        "    top_k = model.recommend_k_items(user_interactions, top_k=num_recs, remove_seen=True)\n",
        "    \n",
        "    # Join with product names\n",
        "    top_k_with_titles = top_k.join(data[['Product ID', 'Product Name']].drop_duplicates().set_index('Product ID'), \n",
        "                                    on='Product ID', \n",
        "                                    how='inner').sort_values(by='Prediction', ascending=False)\n",
        "    \n",
        "    # Return the top recommendations for the user\n",
        "    return top_k_with_titles.head(num_recs)\n"
      ]
    },
    {
      "cell_type": "code",
      "execution_count": 9,
      "metadata": {},
      "outputs": [
        {
          "name": "stdout",
          "output_type": "stream",
          "text": [
            " * Serving Flask app '__main__'\n",
            " * Debug mode: on\n"
          ]
        },
        {
          "name": "stderr",
          "output_type": "stream",
          "text": [
            "WARNING: This is a development server. Do not use it in a production deployment. Use a production WSGI server instead.\n",
            " * Running on http://127.0.0.1:5000\n",
            "Press CTRL+C to quit\n",
            "127.0.0.1 - - [14/Apr/2023 08:25:33] \"GET /recommendations?user_id=142 HTTP/1.1\" 200 -\n"
          ]
        }
      ],
      "source": [
        "app = Flask(__name__)\n",
        "model = joblib.load('model.joblib')\n",
        "test = pd.read_csv('test_data.csv')\n",
        "\n",
        "@app.route('/', methods=['GET'])\n",
        "def index():\n",
        "    return render_template('index.html')\n",
        "\n",
        "\n",
        "# Define the API endpoint\n",
        "@app.route('/recommendations', methods=['GET'])\n",
        "def get_recommendations():\n",
        "    # Get the user ID and number of recommendations from the query parameters\n",
        "    user_id = int(request.args.get('user_id'))\n",
        "    \n",
        "    # Generate recommendations for the user\n",
        "    recs = recommend_for_user(model, test, user_id, 10)\n",
        "    recs_dict = recs.to_dict('records')\n",
        "    return render_template('recommendations.html', recommendations=recs_dict, user_id=user_id)\n",
        "\n",
        "\n",
        "    \n",
        "\n",
        "if __name__ == '__main__':\n",
        "    app.run(debug=True,use_reloader=False)"
      ]
    }
  ],
  "metadata": {
    "colab": {
      "provenance": []
    },
    "kernelspec": {
      "display_name": "Python 3",
      "name": "python3"
    },
    "language_info": {
      "codemirror_mode": {
        "name": "ipython",
        "version": 3
      },
      "file_extension": ".py",
      "mimetype": "text/x-python",
      "name": "python",
      "nbconvert_exporter": "python",
      "pygments_lexer": "ipython3",
      "version": "3.9.16"
    }
  },
  "nbformat": 4,
  "nbformat_minor": 0
}
