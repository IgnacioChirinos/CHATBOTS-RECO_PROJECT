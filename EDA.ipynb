{
  "nbformat": 4,
  "nbformat_minor": 0,
  "metadata": {
    "colab": {
      "provenance": []
    },
    "kernelspec": {
      "name": "python3",
      "display_name": "Python 3"
    },
    "language_info": {
      "name": "python"
    }
  },
  "cells": [
    {
      "cell_type": "code",
      "execution_count": 1,
      "metadata": {
        "id": "1M9kKvkVhDIz"
      },
      "outputs": [],
      "source": [
        "import pandas as pd\n",
        "import numpy as np\n",
        "from scipy.stats import pearsonr\n",
        "import seaborn as sns\n",
        "from sklearn.metrics.pairwise import cosine_similarity\n",
        "import datetime\n",
        "from sklearn.preprocessing import LabelEncoder"
      ]
    },
    {
      "cell_type": "code",
      "source": [
        "# Load data from csv file\n",
        "users = pd.read_csv('user_info.csv')\n",
        "products = pd.read_csv('product_info.csv')\n",
        "interactions = pd.read_csv('interaction_data.csv')"
      ],
      "metadata": {
        "id": "waaFpqSqhhpq"
      },
      "execution_count": 2,
      "outputs": []
    },
    {
      "cell_type": "code",
      "source": [
        "#Delet any null values\n",
        "users.isnull().values.any()\n",
        "products.isnull().values.any()\n",
        "interactions.isnull().values.any()"
      ],
      "metadata": {
        "colab": {
          "base_uri": "https://localhost:8080/"
        },
        "id": "iU9y6Tfyho60",
        "outputId": "06de7bcf-71d0-4366-dabf-0015de94d4de"
      },
      "execution_count": 12,
      "outputs": [
        {
          "output_type": "execute_result",
          "data": {
            "text/plain": [
              "False"
            ]
          },
          "metadata": {},
          "execution_count": 12
        }
      ]
    },
    {
      "cell_type": "code",
      "source": [
        "#Transform Expiration Date to datetime format\n",
        "products['Expiration Date'] = pd.to_datetime(products['Expiration Date'])\n",
        "\n",
        "#creates label for each of the Interaction Type values\n",
        "le = LabelEncoder()\n",
        "interactions['Interaction Type'] = le.fit_transform(interactions['Interaction Type'])"
      ],
      "metadata": {
        "id": "VrtNmZFAhwYA"
      },
      "execution_count": 4,
      "outputs": []
    },
    {
      "cell_type": "code",
      "source": [
        "#Merge interactions and products\n",
        "df = pd.merge(interactions, products, on='Product ID', how='inner')"
      ],
      "metadata": {
        "id": "uBFhvH9mh3_W"
      },
      "execution_count": 5,
      "outputs": []
    },
    {
      "cell_type": "code",
      "source": [
        "# Define the date threshold as 60 days from the current date\n",
        "cutoff_date = pd.Timestamp.now() + pd.Timedelta(days=60)\n",
        "\n",
        "# Filter out the rows that have \"Expiration Date\" higher than the threshold\n",
        "filtered_df = df[ pd.to_datetime(df[\"Expiration Date\"]).dt.date <= cutoff_date.date() ]\n"
      ],
      "metadata": {
        "id": "G-TRml6eh5y7"
      },
      "execution_count": 6,
      "outputs": []
    },
    {
      "cell_type": "code",
      "source": [
        "# Aggregate by product\n",
        "agg_interactions = filtered_df.groupby('Product Name').agg(mean_interaction = ('Interaction Type', 'mean'),\n",
        "                                                number_of_interactions = ('Interaction Type', 'count')).reset_index()\n",
        "\n",
        "# Keep the products with more tha 50 interactions\n",
        "agg_interactions_super100 = agg_interactions[agg_interactions['number_of_interactions']>50]\n",
        "agg_interactions_super100.info()"
      ],
      "metadata": {
        "colab": {
          "base_uri": "https://localhost:8080/"
        },
        "id": "4iSEOdsRh-Yj",
        "outputId": "662780c6-206e-4b7b-92b2-3f5a6e1fa587"
      },
      "execution_count": 7,
      "outputs": [
        {
          "output_type": "stream",
          "name": "stdout",
          "text": [
            "<class 'pandas.core.frame.DataFrame'>\n",
            "Int64Index: 89 entries, 0 to 88\n",
            "Data columns (total 3 columns):\n",
            " #   Column                  Non-Null Count  Dtype  \n",
            "---  ------                  --------------  -----  \n",
            " 0   Product Name            89 non-null     object \n",
            " 1   mean_interaction        89 non-null     float64\n",
            " 2   number_of_interactions  89 non-null     int64  \n",
            "dtypes: float64(1), int64(1), object(1)\n",
            "memory usage: 2.8+ KB\n"
          ]
        }
      ]
    },
    {
      "cell_type": "code",
      "source": [
        "# Check the moust interact products\n",
        "agg_interactions_super100.sort_values(by='number_of_interactions', ascending=False).head()"
      ],
      "metadata": {
        "colab": {
          "base_uri": "https://localhost:8080/",
          "height": 206
        },
        "id": "7kexWki7iBZu",
        "outputId": "dc85a793-bc08-45a3-f259-2d4de8a9f0b5"
      },
      "execution_count": 8,
      "outputs": [
        {
          "output_type": "execute_result",
          "data": {
            "text/plain": [
              "                                         Product Name  mean_interaction  \\\n",
              "78  Wirebound Message Books, 2 7/8\" x 5\", 3 Forms ...          1.385827   \n",
              "53  Martin Yale Chadless Opener Electric Letter Op...          1.462810   \n",
              "51  I Need's 3d Hello Kitty Hybrid Silicone Case C...          1.436975   \n",
              "21  Cardinal Poly Pocket Divider Pockets for Ring ...          1.529915   \n",
              "37                    Fellowes High-Stak Drawer Files          1.444444   \n",
              "\n",
              "    number_of_interactions  \n",
              "78                     127  \n",
              "53                     121  \n",
              "51                     119  \n",
              "21                     117  \n",
              "37                     117  "
            ],
            "text/html": [
              "\n",
              "  <div id=\"df-22a29d0c-a638-4fb6-9e1c-bb346efbcddd\">\n",
              "    <div class=\"colab-df-container\">\n",
              "      <div>\n",
              "<style scoped>\n",
              "    .dataframe tbody tr th:only-of-type {\n",
              "        vertical-align: middle;\n",
              "    }\n",
              "\n",
              "    .dataframe tbody tr th {\n",
              "        vertical-align: top;\n",
              "    }\n",
              "\n",
              "    .dataframe thead th {\n",
              "        text-align: right;\n",
              "    }\n",
              "</style>\n",
              "<table border=\"1\" class=\"dataframe\">\n",
              "  <thead>\n",
              "    <tr style=\"text-align: right;\">\n",
              "      <th></th>\n",
              "      <th>Product Name</th>\n",
              "      <th>mean_interaction</th>\n",
              "      <th>number_of_interactions</th>\n",
              "    </tr>\n",
              "  </thead>\n",
              "  <tbody>\n",
              "    <tr>\n",
              "      <th>78</th>\n",
              "      <td>Wirebound Message Books, 2 7/8\" x 5\", 3 Forms ...</td>\n",
              "      <td>1.385827</td>\n",
              "      <td>127</td>\n",
              "    </tr>\n",
              "    <tr>\n",
              "      <th>53</th>\n",
              "      <td>Martin Yale Chadless Opener Electric Letter Op...</td>\n",
              "      <td>1.462810</td>\n",
              "      <td>121</td>\n",
              "    </tr>\n",
              "    <tr>\n",
              "      <th>51</th>\n",
              "      <td>I Need's 3d Hello Kitty Hybrid Silicone Case C...</td>\n",
              "      <td>1.436975</td>\n",
              "      <td>119</td>\n",
              "    </tr>\n",
              "    <tr>\n",
              "      <th>21</th>\n",
              "      <td>Cardinal Poly Pocket Divider Pockets for Ring ...</td>\n",
              "      <td>1.529915</td>\n",
              "      <td>117</td>\n",
              "    </tr>\n",
              "    <tr>\n",
              "      <th>37</th>\n",
              "      <td>Fellowes High-Stak Drawer Files</td>\n",
              "      <td>1.444444</td>\n",
              "      <td>117</td>\n",
              "    </tr>\n",
              "  </tbody>\n",
              "</table>\n",
              "</div>\n",
              "      <button class=\"colab-df-convert\" onclick=\"convertToInteractive('df-22a29d0c-a638-4fb6-9e1c-bb346efbcddd')\"\n",
              "              title=\"Convert this dataframe to an interactive table.\"\n",
              "              style=\"display:none;\">\n",
              "        \n",
              "  <svg xmlns=\"http://www.w3.org/2000/svg\" height=\"24px\"viewBox=\"0 0 24 24\"\n",
              "       width=\"24px\">\n",
              "    <path d=\"M0 0h24v24H0V0z\" fill=\"none\"/>\n",
              "    <path d=\"M18.56 5.44l.94 2.06.94-2.06 2.06-.94-2.06-.94-.94-2.06-.94 2.06-2.06.94zm-11 1L8.5 8.5l.94-2.06 2.06-.94-2.06-.94L8.5 2.5l-.94 2.06-2.06.94zm10 10l.94 2.06.94-2.06 2.06-.94-2.06-.94-.94-2.06-.94 2.06-2.06.94z\"/><path d=\"M17.41 7.96l-1.37-1.37c-.4-.4-.92-.59-1.43-.59-.52 0-1.04.2-1.43.59L10.3 9.45l-7.72 7.72c-.78.78-.78 2.05 0 2.83L4 21.41c.39.39.9.59 1.41.59.51 0 1.02-.2 1.41-.59l7.78-7.78 2.81-2.81c.8-.78.8-2.07 0-2.86zM5.41 20L4 18.59l7.72-7.72 1.47 1.35L5.41 20z\"/>\n",
              "  </svg>\n",
              "      </button>\n",
              "      \n",
              "  <style>\n",
              "    .colab-df-container {\n",
              "      display:flex;\n",
              "      flex-wrap:wrap;\n",
              "      gap: 12px;\n",
              "    }\n",
              "\n",
              "    .colab-df-convert {\n",
              "      background-color: #E8F0FE;\n",
              "      border: none;\n",
              "      border-radius: 50%;\n",
              "      cursor: pointer;\n",
              "      display: none;\n",
              "      fill: #1967D2;\n",
              "      height: 32px;\n",
              "      padding: 0 0 0 0;\n",
              "      width: 32px;\n",
              "    }\n",
              "\n",
              "    .colab-df-convert:hover {\n",
              "      background-color: #E2EBFA;\n",
              "      box-shadow: 0px 1px 2px rgba(60, 64, 67, 0.3), 0px 1px 3px 1px rgba(60, 64, 67, 0.15);\n",
              "      fill: #174EA6;\n",
              "    }\n",
              "\n",
              "    [theme=dark] .colab-df-convert {\n",
              "      background-color: #3B4455;\n",
              "      fill: #D2E3FC;\n",
              "    }\n",
              "\n",
              "    [theme=dark] .colab-df-convert:hover {\n",
              "      background-color: #434B5C;\n",
              "      box-shadow: 0px 1px 3px 1px rgba(0, 0, 0, 0.15);\n",
              "      filter: drop-shadow(0px 1px 2px rgba(0, 0, 0, 0.3));\n",
              "      fill: #FFFFFF;\n",
              "    }\n",
              "  </style>\n",
              "\n",
              "      <script>\n",
              "        const buttonEl =\n",
              "          document.querySelector('#df-22a29d0c-a638-4fb6-9e1c-bb346efbcddd button.colab-df-convert');\n",
              "        buttonEl.style.display =\n",
              "          google.colab.kernel.accessAllowed ? 'block' : 'none';\n",
              "\n",
              "        async function convertToInteractive(key) {\n",
              "          const element = document.querySelector('#df-22a29d0c-a638-4fb6-9e1c-bb346efbcddd');\n",
              "          const dataTable =\n",
              "            await google.colab.kernel.invokeFunction('convertToInteractive',\n",
              "                                                     [key], {});\n",
              "          if (!dataTable) return;\n",
              "\n",
              "          const docLinkHtml = 'Like what you see? Visit the ' +\n",
              "            '<a target=\"_blank\" href=https://colab.research.google.com/notebooks/data_table.ipynb>data table notebook</a>'\n",
              "            + ' to learn more about interactive tables.';\n",
              "          element.innerHTML = '';\n",
              "          dataTable['output_type'] = 'display_data';\n",
              "          await google.colab.output.renderOutput(dataTable, element);\n",
              "          const docLink = document.createElement('div');\n",
              "          docLink.innerHTML = docLinkHtml;\n",
              "          element.appendChild(docLink);\n",
              "        }\n",
              "      </script>\n",
              "    </div>\n",
              "  </div>\n",
              "  "
            ]
          },
          "metadata": {},
          "execution_count": 8
        }
      ]
    },
    {
      "cell_type": "code",
      "source": [
        "# Visulization\n",
        "sns.jointplot(x='mean_interaction', y='number_of_interactions', data=agg_interactions_super100)\n",
        "\n",
        "df_S10 = pd.merge(filtered_df, agg_interactions_super100[['Product Name']], on='Product Name', how='inner')\n",
        "df_S10.info()"
      ],
      "metadata": {
        "colab": {
          "base_uri": "https://localhost:8080/",
          "height": 684
        },
        "id": "CscOnJmkiEO2",
        "outputId": "2d826027-d6dc-4301-947e-bd93b4816aae"
      },
      "execution_count": 10,
      "outputs": [
        {
          "output_type": "stream",
          "name": "stdout",
          "text": [
            "<class 'pandas.core.frame.DataFrame'>\n",
            "Int64Index: 8807 entries, 0 to 8806\n",
            "Data columns (total 7 columns):\n",
            " #   Column                 Non-Null Count  Dtype         \n",
            "---  ------                 --------------  -----         \n",
            " 0   User ID                8807 non-null   int64         \n",
            " 1   Product ID             8807 non-null   int64         \n",
            " 2   Interaction Type       8807 non-null   int64         \n",
            " 3   Interaction Timestamp  8807 non-null   object        \n",
            " 4   Product Name           8807 non-null   object        \n",
            " 5   Category               8807 non-null   object        \n",
            " 6   Expiration Date        8807 non-null   datetime64[ns]\n",
            "dtypes: datetime64[ns](1), int64(3), object(3)\n",
            "memory usage: 550.4+ KB\n"
          ]
        },
        {
          "output_type": "display_data",
          "data": {
            "text/plain": [
              "<Figure size 432x432 with 3 Axes>"
            ],
            "image/png": "[encoded data removed]"
          },
          "metadata": {
            "needs_background": "light"
          }
        }
      ]
    },
    {
      "cell_type": "code",
      "source": [
        "# Save the data in a new csv file\n",
        "df_S10.to_csv('supermarket_data.csv', index=False)"
      ],
      "metadata": {
        "id": "jOAvQnj4tSR7"
      },
      "execution_count": 11,
      "outputs": []
    }
  ]
}