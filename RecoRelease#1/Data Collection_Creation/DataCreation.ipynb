{
  "nbformat": 4,
  "nbformat_minor": 0,
  "metadata": {
    "colab": {
      "provenance": []
    },
    "kernelspec": {
      "name": "python3",
      "display_name": "Python 3"
    },
    "language_info": {
      "name": "python"
    }
  },
  "cells": [
    {
      "cell_type": "code",
      "execution_count": 29,
      "metadata": {
        "id": "6DoI5OdOWcH3"
      },
      "outputs": [],
      "source": [
        "import pandas as pd\n",
        "import random\n",
        "import pandas as pd\n",
        "import numpy as np\n",
        "from datetime import datetime\n"
      ]
    },
    {
      "cell_type": "code",
      "source": [
        "pl=pd.read_csv(\"Groceries_dataset.csv\")\n",
        "\n",
        "pl = pl.drop_duplicates(subset=['itemDescription'], keep='first')\n",
        "new_pl=pl[[\"itemDescription\"]]\n",
        "new_pl = new_pl.rename(columns={'itemDescription': 'Product Name'})\n",
        "print(new_pl)"
      ],
      "metadata": {
        "colab": {
          "base_uri": "https://localhost:8080/"
        },
        "id": "N7vb9UUmdDq3",
        "outputId": "22fd4523-6582-48c6-dc93-cd3bc560074a"
      },
      "execution_count": 30,
      "outputs": [
        {
          "output_type": "stream",
          "name": "stdout",
          "text": [
            "                Product Name\n",
            "0             tropical fruit\n",
            "1                 whole milk\n",
            "2                  pip fruit\n",
            "3           other vegetables\n",
            "5                 rolls/buns\n",
            "...                      ...\n",
            "18396         pudding powder\n",
            "20424            ready soups\n",
            "21177        make up remover\n",
            "25545         toilet cleaner\n",
            "33699  preservation products\n",
            "\n",
            "[167 rows x 1 columns]\n"
          ]
        }
      ]
    },
    {
      "cell_type": "code",
      "source": [
        "\n",
        "product_id = np.arange(167)\n",
        "product_name = new_pl[\"Product Name\"]\n",
        "expiration_date = np.random.choice(pd.date_range('2023-01-01', '2025-12-31').strftime('%Y-%m-%d'), size=167)\n",
        "\n",
        "df = pd.DataFrame({'Product ID': product_id, 'Product Name': product_name, 'Expiration Date': expiration_date})\n",
        "df.to_csv('product_info.csv', index=False)\n"
      ],
      "metadata": {
        "id": "IRtNVmJ4Y6fP"
      },
      "execution_count": 13,
      "outputs": []
    },
    {
      "cell_type": "code",
      "source": [
        "user_id = np.arange(1000)\n",
        "age = np.random.randint(18, 65, size=1000)\n",
        "gender = np.random.choice(['Male', 'Female', 'Other'], size=1000)\n",
        "occupation = np.random.choice(['Student', 'Engineer', 'Teacher', 'Doctor', 'Businessman'], size=1000)\n",
        "location = np.random.choice(['New York', 'Los Angeles', 'Chicago', 'Houston', 'Phoenix'], size=1000)\n",
        "\n",
        "df = pd.DataFrame({'User ID': user_id, 'Age': age, 'Gender': gender, 'Occupation': occupation, 'Location': location})\n",
        "df.to_csv('user_info.csv', index=False)"
      ],
      "metadata": {
        "id": "OXj-Q54qZWEj"
      },
      "execution_count": 14,
      "outputs": []
    },
    {
      "cell_type": "code",
      "source": [
        "user_id = np.random.randint(0, 1000, size=100000)\n",
        "product_id = np.random.randint(0, 167, size=100000)\n",
        "interaction_type = np.random.choice(['View', 'Purchase', 'Add to Cart', 'Wishlist'], size=100000)\n",
        "interaction_timestamp = np.array([datetime.now().strftime('%Y-%m-%d %H:%M:%S') for i in range(100000)])\n",
        "\n",
        "df = pd.DataFrame({'User ID': user_id, 'Product ID': product_id, 'Interaction Type': interaction_type, 'Interaction Timestamp': interaction_timestamp})\n",
        "df.to_csv(\"interaction_data.csv\", index=False)"
      ],
      "metadata": {
        "id": "JOuR15UdZlDV"
      },
      "execution_count": 12,
      "outputs": []
    },
    {
      "cell_type": "code",
      "source": [
        "# Load the data\n",
        "users = pd.read_csv('user_info.csv')\n",
        "products = pd.read_csv('product_info.csv')\n",
        "interactions = pd.read_csv('interaction_data.csv')\n"
      ],
      "metadata": {
        "id": "dPMj27AMafqU"
      },
      "execution_count": 15,
      "outputs": []
    },
    {
      "cell_type": "code",
      "source": [
        "products['Expiration Date'] = pd.to_datetime(products['Expiration Date'])"
      ],
      "metadata": {
        "id": "SR04iPD6aw6E"
      },
      "execution_count": 16,
      "outputs": []
    },
    {
      "cell_type": "code",
      "source": [
        "category_to_number = {\n",
        "    \"Add to Cart\": 3,\n",
        "    \"View\": 1,\n",
        "    \"Purchase\": 4,\n",
        "    \"Wishlist\": 2\n",
        "}"
      ],
      "metadata": {
        "id": "2O7EyCjebNOj"
      },
      "execution_count": 22,
      "outputs": []
    },
    {
      "cell_type": "code",
      "source": [
        "interactions[\"Interaction Type\"] = interactions[\"Interaction Type\"].map(category_to_number)\n",
        "print(interactions[\"Interaction Type\"])"
      ],
      "metadata": {
        "colab": {
          "base_uri": "https://localhost:8080/"
        },
        "id": "wzdipGX8bQuv",
        "outputId": "19662463-9181-48c5-dc79-1a792a6995c2"
      },
      "execution_count": 26,
      "outputs": [
        {
          "output_type": "stream",
          "name": "stdout",
          "text": [
            "0        3\n",
            "1        3\n",
            "2        2\n",
            "3        4\n",
            "4        4\n",
            "        ..\n",
            "99995    4\n",
            "99996    3\n",
            "99997    3\n",
            "99998    3\n",
            "99999    2\n",
            "Name: Interaction Type, Length: 100000, dtype: int64\n"
          ]
        }
      ]
    },
    {
      "cell_type": "code",
      "source": [
        "# Merge the dataframes\n",
        "data = interactions.merge(users, on='User ID').merge(products, on=\"Product ID\")\n"
      ],
      "metadata": {
        "id": "oqN__YbDbevm"
      },
      "execution_count": 27,
      "outputs": []
    },
    {
      "cell_type": "code",
      "source": [
        "data.to_csv(\"supermarket_data.csv\", index=False)"
      ],
      "metadata": {
        "id": "SXQu_pVOblr3"
      },
      "execution_count": 28,
      "outputs": []
    }
  ]
}